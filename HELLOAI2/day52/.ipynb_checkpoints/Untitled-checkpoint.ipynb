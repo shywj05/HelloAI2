{
 "cells": [
  {
   "cell_type": "code",
   "execution_count": null,
   "id": "permanent-compilation",
   "metadata": {},
   "outputs": [],
   "source": [
    "import numpy as np\n",
    "import matplotlib.pyplot as plt\n",
    "import tensorflow as tf\n",
    "from tensorflow import keras\n",
    "from tensorflow.keras import datasets, layers, models\n",
    " \n",
    "cifar10 = datasets.cifar10 \n",
    "(train_images, train_labels), (test_images, test_labels) = cifar10.load_data()\n",
    " \n",
    "class_names = ['airplane', 'automobile', 'bird', 'cat', 'deer', 'dog', 'frog', 'horse', 'ship', 'truck']\n",
    " \n",
    "print(\"Train samples:\", train_images.shape, train_labels.shape)\n",
    "print(\"Test samples:\", test_images.shape, test_labels.shape)\n",
    " \n",
    "train_images = train_images.reshape((50000, 32, 32, 3))\n",
    "test_images = test_images.reshape((10000, 32, 32, 3))\n",
    " \n",
    " \n",
    "train_images = train_images/255.0\n",
    "test_images = test_images/255.0\n",
    " \n",
    "model = models.Sequential()\n",
    "model.add(layers.Conv2D(32, (3, 3), activation='relu', input_shape=(32, 32, 3)))\n",
    "model.add(layers.MaxPooling2D((2, 2)))\n",
    "model.add(layers.Conv2D(64, (3, 3), activation='relu'))\n",
    "model.add(layers.MaxPooling2D((2, 2)))\n",
    "model.add(layers.Conv2D(64, (3, 3), activation='relu'))\n",
    "model.add(layers.Flatten())\n",
    "model.add(layers.Dense(64, activation='relu'))\n",
    "model.add(layers.Dense(10, activation='softmax'))\n",
    " \n",
    "model.compile(optimizer='adam', loss='sparse_categorical_crossentropy', metrics=['accuracy'])\n",
    " \n",
    "model.fit(train_images, train_labels, epochs=10)\n",
    " \n",
    "test_loss, test_acc = model.evaluate(test_images, test_labels)\n",
    " \n",
    "print('Test accuracy:', test_acc)\n",
    " \n",
    "predictions = model.predict(test_images)\n"
   ]
  }
 ],
 "metadata": {
  "kernelspec": {
   "display_name": "Python 3",
   "language": "python",
   "name": "python3"
  },
  "language_info": {
   "codemirror_mode": {
    "name": "ipython",
    "version": 3
   },
   "file_extension": ".py",
   "mimetype": "text/x-python",
   "name": "python",
   "nbconvert_exporter": "python",
   "pygments_lexer": "ipython3",
   "version": "3.8.5"
  }
 },
 "nbformat": 4,
 "nbformat_minor": 5
}
